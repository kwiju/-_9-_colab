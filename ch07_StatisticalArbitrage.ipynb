{
  "nbformat": 4,
  "nbformat_minor": 0,
  "metadata": {
    "celltoolbar": "Raw Cell Format",
    "kernelspec": {
      "display_name": "Python 3",
      "language": "python",
      "name": "python3"
    },
    "language_info": {
      "codemirror_mode": {
        "name": "ipython",
        "version": 3
      },
      "file_extension": ".py",
      "mimetype": "text/x-python",
      "name": "python",
      "nbconvert_exporter": "python",
      "pygments_lexer": "ipython3",
      "version": "3.7.9"
    },
    "colab": {
      "name": "ch07_StatisticalArbitrage.ipynb",
      "provenance": [],
      "collapsed_sections": [],
      "include_colab_link": true
    }
  },
  "cells": [
    {
      "cell_type": "markdown",
      "metadata": {
        "id": "view-in-github",
        "colab_type": "text"
      },
      "source": [
        "<a href=\"https://colab.research.google.com/github/dsk-yshkw/DataDrivenFinance/blob/main/ch07_StatisticalArbitrage.ipynb\" target=\"_parent\"><img src=\"https://colab.research.google.com/assets/colab-badge.svg\" alt=\"Open In Colab\"/></a>"
      ]
    },
    {
      "cell_type": "markdown",
      "source": [
        "# パッケージのインポート"
      ],
      "metadata": {
        "id": "do2vmsDed-3Q"
      }
    },
    {
      "cell_type": "code",
      "metadata": {
        "id": "AYTbl334yWii",
        "outputId": "9a9a02c6-38f6-4486-ddd0-75c385fe015f",
        "colab": {
          "base_uri": "https://localhost:8080/"
        }
      },
      "source": [
        "import numpy as np\n",
        "import pandas as pd\n",
        "import matplotlib.pyplot as plt\n",
        "from statsmodels.tsa.vector_ar.vecm import coint_johansen\n",
        "from statsmodels.tsa.api import VECM"
      ],
      "execution_count": null,
      "outputs": [
        {
          "output_type": "stream",
          "name": "stderr",
          "text": [
            "/usr/local/lib/python3.7/dist-packages/statsmodels/tools/_testing.py:19: FutureWarning: pandas.util.testing is deprecated. Use the functions in the public API at pandas.testing instead.\n",
            "  import pandas.util.testing as tm\n"
          ]
        }
      ]
    },
    {
      "cell_type": "markdown",
      "source": [
        "# パラメータの設定"
      ],
      "metadata": {
        "id": "YBByL7aTeB5U"
      }
    },
    {
      "cell_type": "code",
      "metadata": {
        "id": "qL_1wMstyWil"
      },
      "source": [
        "Sigma = np.array([[1,0,0],[0,1,0],[0,0,1]])\n",
        "\n",
        "a_1 = np.array([0.1,0.2,0.3]) # alpha_1\n",
        "a_2 = np.array([0.5,-0.3,-0.3]) \n",
        "b_1 = np.array([1,-0.5,-0.5]) # beta_1\n",
        "b_2 = np.array([-0.2,0.5,-0.2])\n",
        "\n",
        "A = np.stack([a_1,a_2],axis = 1) # alpha_2\n",
        "B = np.stack([b_1,b_2]) # beta_2\n",
        "\n",
        "Pi_1 = np.dot(a_1.reshape(3,1),b_1.reshape(1,3))\n",
        "Pi_2 = np.dot(A,B)\n"
      ],
      "execution_count": null,
      "outputs": []
    },
    {
      "cell_type": "code",
      "metadata": {
        "id": "LgdpyScpyWil"
      },
      "source": [
        "np.random.seed(seed = 1)\n",
        "rand_nums = np.random.randn(20000,3)"
      ],
      "execution_count": null,
      "outputs": []
    },
    {
      "cell_type": "code",
      "metadata": {
        "id": "ME9fmC16yWio"
      },
      "source": [
        "init = np.array([1,1,1])\n",
        "S_rw = init\n",
        "S_ci1 = init\n",
        "S_ci2 = init"
      ],
      "execution_count": null,
      "outputs": []
    },
    {
      "cell_type": "code",
      "metadata": {
        "id": "lNOt6sVpyWiq"
      },
      "source": [
        "for rand_num in rand_nums:\n",
        "    S_rw = np.vstack((S_rw,S_rw[len(S_rw)-1] + np.dot(rand_num,Sigma)))\n",
        "    S_ci1 = np.vstack((S_ci1,np.dot(Pi_1 + np.eye(3),S_ci1[len(S_ci1)-1]) \n",
        "                       + np.dot(rand_num,Sigma)))\n",
        "    S_ci2 = np.vstack((S_ci2,np.dot(Pi_2 + np.eye(3),S_ci2[len(S_ci2)-1]) \n",
        "                       + np.dot(rand_num,Sigma)))\n",
        "\n"
      ],
      "execution_count": null,
      "outputs": []
    },
    {
      "cell_type": "markdown",
      "source": [
        "# Johansen検定"
      ],
      "metadata": {
        "id": "TCnfq7y9e8ZK"
      }
    },
    {
      "cell_type": "markdown",
      "source": [
        "## $\\mathbf{S}_{\\textbf{RW}}$をテストする"
      ],
      "metadata": {
        "id": "SgkaPcJkffvF"
      }
    },
    {
      "cell_type": "code",
      "metadata": {
        "id": "cdQsyl5ZyWis"
      },
      "source": [
        "JohansenTestResult_rw = coint_johansen(S_rw,k_ar_diff=0,det_order=-1)"
      ],
      "execution_count": null,
      "outputs": []
    },
    {
      "cell_type": "code",
      "metadata": {
        "colab": {
          "base_uri": "https://localhost:8080/"
        },
        "id": "mq-OE-w0yWit",
        "outputId": "33f49ed4-2f95-4631-f169-1fcb5eaca63b"
      },
      "source": [
        "print(JohansenTestResult_rw.lr1) # Trace statistic"
      ],
      "execution_count": null,
      "outputs": [
        {
          "output_type": "stream",
          "name": "stdout",
          "text": [
            "[22.58036266  8.78820583  2.43645402]\n"
          ]
        }
      ]
    },
    {
      "cell_type": "code",
      "metadata": {
        "colab": {
          "base_uri": "https://localhost:8080/"
        },
        "id": "UqncefwdyWiu",
        "outputId": "137856f2-c004-4f68-b48b-7ed66c96eeec"
      },
      "source": [
        "print(JohansenTestResult_rw.cvt) # Critical values (90%,95%,99%) of trace statistic"
      ],
      "execution_count": null,
      "outputs": [
        {
          "output_type": "stream",
          "name": "stdout",
          "text": [
            "[[21.7781 24.2761 29.5147]\n",
            " [10.4741 12.3212 16.364 ]\n",
            " [ 2.9762  4.1296  6.9406]]\n"
          ]
        }
      ]
    },
    {
      "cell_type": "code",
      "metadata": {
        "colab": {
          "base_uri": "https://localhost:8080/"
        },
        "id": "ZiY2Kr_-yWit",
        "outputId": "500b32da-6128-4707-8e3f-065946d0f753"
      },
      "source": [
        "print(JohansenTestResult_rw.lr2) # Maximum eigenvalue statistic"
      ],
      "execution_count": null,
      "outputs": [
        {
          "output_type": "stream",
          "name": "stdout",
          "text": [
            "[13.79215683  6.35175181  2.43645402]\n"
          ]
        }
      ]
    },
    {
      "cell_type": "code",
      "metadata": {
        "colab": {
          "base_uri": "https://localhost:8080/"
        },
        "id": "znW559THyWiv",
        "outputId": "22d4b609-427e-4072-fdaa-fe4bdeaad9dc"
      },
      "source": [
        "print(JohansenTestResult_rw.cvm) # Critical values (90%,95%,99%) of maximum eigenvalue statistic"
      ],
      "execution_count": null,
      "outputs": [
        {
          "output_type": "stream",
          "name": "stdout",
          "text": [
            "[[15.7175 17.7961 22.2519]\n",
            " [ 9.4748 11.2246 15.0923]\n",
            " [ 2.9762  4.1296  6.9406]]\n"
          ]
        }
      ]
    },
    {
      "cell_type": "markdown",
      "source": [
        "## $\\mathbf{S}_{\\textbf{CI},1}$をテストする"
      ],
      "metadata": {
        "id": "3mMLrvY6fxLw"
      }
    },
    {
      "cell_type": "code",
      "metadata": {
        "id": "aG5kZ6FbyWiv"
      },
      "source": [
        "JohansenTestResult_s1 = coint_johansen(S_ci1,k_ar_diff=0,det_order=-1)"
      ],
      "execution_count": null,
      "outputs": []
    },
    {
      "cell_type": "code",
      "metadata": {
        "colab": {
          "base_uri": "https://localhost:8080/"
        },
        "id": "bloHkaYXyWiv",
        "outputId": "323c053f-8178-4346-a3fb-baced91a1bc5"
      },
      "source": [
        "print(JohansenTestResult_s1.lr1) # Trace statistic\n",
        "print(JohansenTestResult_s1.cvt) # Critical values (90%,95%,99%) of trace statistic\n",
        "print(JohansenTestResult_s1.lr2) # Maximum eigenvalue statistic\n",
        "print(JohansenTestResult_s1.cvm) # Critical values (90%,95%,99%) of maximum eigenvalue statistic"
      ],
      "execution_count": null,
      "outputs": [
        {
          "output_type": "stream",
          "name": "stdout",
          "text": [
            "[1.15097289e+04 1.42336157e+01 1.08408520e+00]\n",
            "[[21.7781 24.2761 29.5147]\n",
            " [10.4741 12.3212 16.364 ]\n",
            " [ 2.9762  4.1296  6.9406]]\n",
            "[1.14954952e+04 1.31495305e+01 1.08408520e+00]\n",
            "[[15.7175 17.7961 22.2519]\n",
            " [ 9.4748 11.2246 15.0923]\n",
            " [ 2.9762  4.1296  6.9406]]\n"
          ]
        }
      ]
    },
    {
      "cell_type": "markdown",
      "source": [
        "## $\\mathbf{S}_{\\textbf{CI,2}}$をテストする"
      ],
      "metadata": {
        "id": "qmIQwuhDgKsc"
      }
    },
    {
      "cell_type": "code",
      "metadata": {
        "id": "Qdf6vU9ayWiw"
      },
      "source": [
        "JohansenTestResult_s2 = coint_johansen(S_ci2,k_ar_diff=0,det_order=-1)"
      ],
      "execution_count": null,
      "outputs": []
    },
    {
      "cell_type": "code",
      "metadata": {
        "colab": {
          "base_uri": "https://localhost:8080/"
        },
        "id": "frG_hmIayWiw",
        "outputId": "e501800e-81b3-4582-d397-3d023d512220"
      },
      "source": [
        "print(JohansenTestResult_s2.lr1) # Trace statistic\n",
        "print(JohansenTestResult_s2.cvt) # Critical values (90%,95%,99%) of trace statistic\n",
        "print(JohansenTestResult_s2.lr2) # Maximum eigenvalue statistic\n",
        "print(JohansenTestResult_s2.cvm) # Critical values (90%,95%,99%) of maximum eigenvalue statistic"
      ],
      "execution_count": null,
      "outputs": [
        {
          "output_type": "stream",
          "name": "stdout",
          "text": [
            "[3.24178966e+04 6.11019131e+03 2.57568342e+00]\n",
            "[[21.7781 24.2761 29.5147]\n",
            " [10.4741 12.3212 16.364 ]\n",
            " [ 2.9762  4.1296  6.9406]]\n",
            "[2.63077053e+04 6.10761563e+03 2.57568342e+00]\n",
            "[[15.7175 17.7961 22.2519]\n",
            " [ 9.4748 11.2246 15.0923]\n",
            " [ 2.9762  4.1296  6.9406]]\n"
          ]
        }
      ]
    },
    {
      "cell_type": "markdown",
      "source": [
        "# モデル・パラメータの推定"
      ],
      "metadata": {
        "id": "sU89CF4bgYj4"
      }
    },
    {
      "cell_type": "markdown",
      "source": [
        "## $\\mathbf{S}_{\\textbf{CI},1}$のパラメータ推定"
      ],
      "metadata": {
        "id": "8VG6qZ5Lgg9Q"
      }
    },
    {
      "cell_type": "code",
      "metadata": {
        "id": "MA4jHD5ByWiw"
      },
      "source": [
        "model_s1 = VECM(S_ci1,k_ar_diff=0,coint_rank = 1, deterministic='na')\n",
        "res_s1 = model_s1.fit()\n"
      ],
      "execution_count": null,
      "outputs": []
    },
    {
      "cell_type": "code",
      "metadata": {
        "colab": {
          "base_uri": "https://localhost:8080/"
        },
        "id": "e9C38DFmyWix",
        "outputId": "bfce65dc-710c-45a0-a8ec-fe09a537c3fa"
      },
      "source": [
        "print(res_s1.summary())"
      ],
      "execution_count": null,
      "outputs": [
        {
          "output_type": "stream",
          "name": "stdout",
          "text": [
            "                 Loading coefficients (alpha) for equation y1                 \n",
            "==============================================================================\n",
            "                 coef    std err          z      P>|z|      [0.025      0.975]\n",
            "------------------------------------------------------------------------------\n",
            "ec1            0.0998      0.003     32.514      0.000       0.094       0.106\n",
            "                 Loading coefficients (alpha) for equation y2                 \n",
            "==============================================================================\n",
            "                 coef    std err          z      P>|z|      [0.025      0.975]\n",
            "------------------------------------------------------------------------------\n",
            "ec1            0.2077      0.003     68.038      0.000       0.202       0.214\n",
            "                 Loading coefficients (alpha) for equation y3                 \n",
            "==============================================================================\n",
            "                 coef    std err          z      P>|z|      [0.025      0.975]\n",
            "------------------------------------------------------------------------------\n",
            "ec1            0.3019      0.003     98.418      0.000       0.296       0.308\n",
            "          Cointegration relations for loading-coefficients-column 1           \n",
            "==============================================================================\n",
            "                 coef    std err          z      P>|z|      [0.025      0.975]\n",
            "------------------------------------------------------------------------------\n",
            "beta.1         1.0000          0          0      0.000       1.000       1.000\n",
            "beta.2        -0.5000      0.000  -1849.489      0.000      -0.501      -0.499\n",
            "beta.3        -0.4997      0.000  -1218.700      0.000      -0.501      -0.499\n",
            "==============================================================================\n"
          ]
        }
      ]
    },
    {
      "cell_type": "code",
      "metadata": {
        "colab": {
          "base_uri": "https://localhost:8080/"
        },
        "id": "PxUvlKM8yWix",
        "outputId": "1c63548b-5180-4062-cb76-6ce212780d01"
      },
      "source": [
        "print(res_s1.alpha)\n",
        "print(res_s1.beta)"
      ],
      "execution_count": null,
      "outputs": [
        {
          "output_type": "stream",
          "name": "stdout",
          "text": [
            "[[0.09983864]\n",
            " [0.20767309]\n",
            " [0.30188794]]\n",
            "[[ 1.        ]\n",
            " [-0.50000816]\n",
            " [-0.49972569]]\n"
          ]
        }
      ]
    },
    {
      "cell_type": "markdown",
      "source": [
        "## $\\mathbf{S}_{\\textbf{CI},2}$のパラメータ推定"
      ],
      "metadata": {
        "id": "3pF8ZXoggz6B"
      }
    },
    {
      "cell_type": "code",
      "metadata": {
        "colab": {
          "base_uri": "https://localhost:8080/"
        },
        "id": "xknj9Ms4yWix",
        "outputId": "e15b5403-e902-4c17-9808-7d12d942048b"
      },
      "source": [
        "model_s2 = VECM(S_ci2,k_ar_diff=0,coint_rank = 2, deterministic='na')\n",
        "res_s2 = model_s2.fit()\n",
        "\n",
        "print(res_s2.alpha)\n",
        "print(res_s2.beta)"
      ],
      "execution_count": null,
      "outputs": [
        {
          "output_type": "stream",
          "name": "stdout",
          "text": [
            "[[ 0.00295261  0.19832263]\n",
            " [ 0.26430882 -0.25658122]\n",
            " [ 0.36024384 -0.29875471]]\n",
            "[[ 1.00000000e+00 -8.48158683e-17]\n",
            " [ 1.76391918e-16  1.00000000e+00]\n",
            " [-8.74973589e-01 -7.49993120e-01]]\n"
          ]
        }
      ]
    },
    {
      "cell_type": "code",
      "metadata": {
        "colab": {
          "base_uri": "https://localhost:8080/"
        },
        "id": "gc4GF_16yWix",
        "outputId": "e1ca945b-14c3-4a44-c798-5c355ba78995"
      },
      "source": [
        "print(np.dot(res_s2.alpha,res_s2.beta.transpose()))\n",
        "print(Pi_2)\n"
      ],
      "execution_count": null,
      "outputs": [
        {
          "output_type": "stream",
          "name": "stdout",
          "text": [
            "[[ 0.00295261  0.19832263 -0.15132406]\n",
            " [ 0.26430882 -0.25658122 -0.03882909]\n",
            " [ 0.36024384 -0.29875471 -0.09113987]]\n",
            "[[ 0.    0.2  -0.15]\n",
            " [ 0.26 -0.25 -0.04]\n",
            " [ 0.36 -0.3  -0.09]]\n"
          ]
        }
      ]
    },
    {
      "cell_type": "code",
      "metadata": {
        "id": "f3j741ovmcMc"
      },
      "source": [
        ""
      ],
      "execution_count": null,
      "outputs": []
    }
  ]
}